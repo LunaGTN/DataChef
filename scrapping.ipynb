{
 "cells": [
  {
   "cell_type": "code",
   "execution_count": 2,
   "metadata": {},
   "outputs": [],
   "source": [
    "import requests\n",
    "from bs4 import BeautifulSoup\n",
    "import pandas as pd\n",
    "import re"
   ]
  },
  {
   "cell_type": "code",
   "execution_count": 3,
   "metadata": {},
   "outputs": [],
   "source": [
    "def soup_to_dico(_soup):\n",
    "    temps = _soup.find('div', {\"class\" : \"time__details\"}).find_all('div')\n",
    "    temps_preparation = temps[1].get_text()\n",
    "    temps_repos = temps[3].get_text()\n",
    "    temps_cuisson = temps[5].get_text()\n",
    "\n",
    "    image = _soup.find('img',{\"class\":\"lazyload mrtn-print-only\"}).get(\"data-src\")\n",
    "\n",
    "    nb_personne = _soup.find(\"div\",{\"class\":'mrtn-recette_ingredients-counter'}).get(\"data-servingsnb\")\n",
    "\n",
    "    difficulte = _soup.find_all('div',{\"class\": 'recipe-primary__item'})\n",
    "    result = []\n",
    "    for div in difficulte:\n",
    "        # Trouver la balise <span> et extraire son texte\n",
    "        span = div.find('span')\n",
    "        if span:\n",
    "            result.append(span)\n",
    "    temps_total = result[0].get_text()\n",
    "    difficulte= result[1].get_text()\n",
    "    cout = result[2].get_text()\n",
    "\n",
    "    instructions = _soup.find_all(\"div\",{\"class\":'recipe-step-list__container'})\n",
    "    etapes = []\n",
    "    for i in range(len(instructions)):\n",
    "        for p in instructions[i].find_all(\"p\"):\n",
    "            etapes.append(p.get_text())\n",
    "    \n",
    "    liste_ingredients = []\n",
    "\n",
    "    ingredients = _soup.find_all(\"span\",{\"class\":\"card-ingredient-title\"})\n",
    "    ingredients_id = _soup.find_all(\"div\",{\"class\":\"card-ingredient-checkbox\"})\n",
    "\n",
    "    for i in range(len(ingredients)):\n",
    "        nom = ingredients[i].find(\"span\",{\"class\":\"ingredient-name\"}).get(\"data-ingredientnameplural\")\n",
    "        quantite_unite = ingredients[i].find(\"span\", {\"class\":\"card-ingredient-quantity\"})\n",
    "        quantite = quantite_unite.get(\"data-ingredientquantity\")\n",
    "        unite = quantite_unite.find(\"span\", {\"class\":\"unit\"}).get(\"data-unitsingular\")\n",
    "        id_ingredient= ingredients_id[i].find(\"input\").get(\"id\")\n",
    "        \n",
    "\n",
    "        liste_ingredients.append({\n",
    "            \"nom\":nom,\n",
    "            \"quantite\": quantite,\n",
    "            \"unite\":unite,\n",
    "            \"id\": id_ingredient[5:]\n",
    "        })\n",
    "\n",
    "    recette_ = {\n",
    "        \"temps_preparation\" : temps_preparation,\n",
    "        \"tems_repos\" : temps_repos,\n",
    "        \"temps_cuisson\": temps_cuisson ,\n",
    "        \"image\" : image ,\n",
    "        \"nb_personne\": nb_personne,\n",
    "        \"temps_total\": temps_total ,\n",
    "        \"difficulte\":difficulte,\n",
    "        \"cout\": cout,\n",
    "        \"etapes\": etapes,\n",
    "        \"ingredients\": liste_ingredients\n",
    "    }\n",
    "\n",
    "    return recette_\n",
    "    "
   ]
  },
  {
   "cell_type": "markdown",
   "metadata": {},
   "source": [
    "Récupère les titres et les liens vers les entrées et les plats des recettes Top de marmiton"
   ]
  },
  {
   "cell_type": "code",
   "execution_count": 4,
   "metadata": {},
   "outputs": [
    {
     "name": "stderr",
     "output_type": "stream",
     "text": [
      "<>:21: SyntaxWarning: invalid escape sequence '\\d'\n",
      "<>:21: SyntaxWarning: invalid escape sequence '\\d'\n",
      "/tmp/ipykernel_538/1732393173.py:21: SyntaxWarning: invalid escape sequence '\\d'\n",
      "  \"\"\"\n"
     ]
    },
    {
     "data": {
      "text/plain": [
       "'\\nrecettes = [] #titres, liens\\nfor titre, lien in zip(titres, liens):\\n    recettes.append({\\n        \"titre\": titre.get_text().strip(),\\n        \"lien\": lien[\"href\"]\\n    })\\n\\nfor recette in recettes:\\n    lien = recette[\\'lien\\']\\n    id = re.findall(r\\'(\\\\d+)\\', lien)[0]\\n    response_recette = requests.get(lien)\\n    soup_recette = BeautifulSoup(response_recette.content, \"html.parser\")\\n    recette[\\'id\\'] = id\\n    #recette.update(soup_to_dico(soup_recette))\\n'"
      ]
     },
     "execution_count": 4,
     "metadata": {},
     "output_type": "execute_result"
    }
   ],
   "source": [
    "urls = [\n",
    "    'https://www.marmiton.org/recettes/top-internautes-plat-principal.aspx',\n",
    "    'https://www.marmiton.org/recettes/top-internautes-entree.aspx',\n",
    "    \"https://www.marmiton.org/recettes/top-internautes-dessert.aspx\"\n",
    "    ]\n",
    "\n",
    "titres = []\n",
    "liens = []\n",
    "\n",
    "for url in urls:\n",
    "    response = requests.get(url)\n",
    "    soup = BeautifulSoup(response.content, \"html.parser\")\n",
    "\n",
    "    titre = soup.find_all('h4', {\"class\" : \"recipe-card__title\"})\n",
    "    lien=soup.find_all('a', {\"class\" : \"recipe-card-link\"})\n",
    "    \n",
    "\n",
    "    titres.extend(titre)\n",
    "    liens.extend(lien)\n",
    "\n",
    "\n",
    "recettes = [] #titres, liens\n",
    "for titre, lien in zip(titres, liens):\n",
    "    recettes.append({\n",
    "        \"titre\": titre.get_text().strip(),\n",
    "        \"lien\": lien[\"href\"]\n",
    "    })\n",
    "\n",
    "for recette in recettes:\n",
    "    lien = recette['lien']\n",
    "    id = re.findall(r'(\\d+)', lien)[0]\n",
    "    response_recette = requests.get(lien)\n",
    "    soup_recette = BeautifulSoup(response_recette.content, \"html.parser\")\n",
    "    recette['id'] = id\n",
    "    recette.update(soup_to_dico(soup_recette))\n",
    "\n",
    "\n",
    "\n"
   ]
  },
  {
   "cell_type": "markdown",
   "metadata": {},
   "source": [
    "### Zone de test"
   ]
  },
  {
   "cell_type": "code",
   "execution_count": 3,
   "metadata": {},
   "outputs": [],
   "source": [
    "response_recipe = requests.get(\"https://www.marmiton.org/recettes/recette_lasagnes-a-la-bolognaise_18215.aspx\").text"
   ]
  },
  {
   "cell_type": "code",
   "execution_count": 5,
   "metadata": {},
   "outputs": [],
   "source": [
    "soup = BeautifulSoup(response_recipe, \"html.parser\")"
   ]
  },
  {
   "cell_type": "code",
   "execution_count": 42,
   "metadata": {},
   "outputs": [],
   "source": [
    "image_link = soup.find('img',{\"class\":\"lazyload mrtn-print-only\"}).get(\"data-src\")"
   ]
  },
  {
   "cell_type": "code",
   "execution_count": 43,
   "metadata": {},
   "outputs": [
    {
     "data": {
      "text/plain": [
       "'https://assets.afcdn.com/recipe/20180209/77484_w300h200c1cx2464cy1632cxt0cyt0cxb4928cyb3264.webp'"
      ]
     },
     "execution_count": 43,
     "metadata": {},
     "output_type": "execute_result"
    }
   ],
   "source": [
    "image_link"
   ]
  },
  {
   "cell_type": "code",
   "execution_count": 1,
   "metadata": {},
   "outputs": [],
   "source": [
    "from fonctions.sql_manager import SQL_recipe_manager"
   ]
  },
  {
   "cell_type": "code",
   "execution_count": 2,
   "metadata": {},
   "outputs": [],
   "source": [
    "sql_manager = SQL_recipe_manager()\n",
    "df = sql_manager.request_planner(user_id='106772900103878420415')"
   ]
  },
  {
   "cell_type": "code",
   "execution_count": 3,
   "metadata": {},
   "outputs": [
    {
     "data": {
      "text/html": [
       "<div>\n",
       "<style scoped>\n",
       "    .dataframe tbody tr th:only-of-type {\n",
       "        vertical-align: middle;\n",
       "    }\n",
       "\n",
       "    .dataframe tbody tr th {\n",
       "        vertical-align: top;\n",
       "    }\n",
       "\n",
       "    .dataframe thead th {\n",
       "        text-align: right;\n",
       "    }\n",
       "</style>\n",
       "<table border=\"1\" class=\"dataframe\">\n",
       "  <thead>\n",
       "    <tr style=\"text-align: right;\">\n",
       "      <th></th>\n",
       "      <th>id</th>\n",
       "      <th>name</th>\n",
       "      <th>nb_person</th>\n",
       "      <th>sweet_salt</th>\n",
       "      <th>time_preparation</th>\n",
       "      <th>time_rest</th>\n",
       "      <th>time_cooking</th>\n",
       "      <th>time_total</th>\n",
       "      <th>difficulty</th>\n",
       "      <th>cost</th>\n",
       "      <th>image_link</th>\n",
       "      <th>country</th>\n",
       "    </tr>\n",
       "  </thead>\n",
       "  <tbody>\n",
       "    <tr>\n",
       "      <th>0</th>\n",
       "      <td>58900</td>\n",
       "      <td>Tarte aux pommes</td>\n",
       "      <td>6</td>\n",
       "      <td>sucré</td>\n",
       "      <td>25</td>\n",
       "      <td>0</td>\n",
       "      <td>30</td>\n",
       "      <td>55</td>\n",
       "      <td>facile</td>\n",
       "      <td>bon marché</td>\n",
       "      <td>https://assets.afcdn.com/recipe/20220128/12825...</td>\n",
       "      <td>None</td>\n",
       "    </tr>\n",
       "    <tr>\n",
       "      <th>1</th>\n",
       "      <td>24175</td>\n",
       "      <td>Pancakes : la vraie recette</td>\n",
       "      <td>18</td>\n",
       "      <td>sucré</td>\n",
       "      <td>5</td>\n",
       "      <td>0</td>\n",
       "      <td>36</td>\n",
       "      <td>41</td>\n",
       "      <td>très facile</td>\n",
       "      <td>bon marché</td>\n",
       "      <td>https://assets.afcdn.com/recipe/20221013/13607...</td>\n",
       "      <td>None</td>\n",
       "    </tr>\n",
       "    <tr>\n",
       "      <th>2</th>\n",
       "      <td>22715</td>\n",
       "      <td>Tarte à la rhubarbe rapide</td>\n",
       "      <td>6</td>\n",
       "      <td>sucré</td>\n",
       "      <td>15</td>\n",
       "      <td>0</td>\n",
       "      <td>35</td>\n",
       "      <td>50</td>\n",
       "      <td>facile</td>\n",
       "      <td>bon marché</td>\n",
       "      <td>https://assets.afcdn.com/recipe/20160520/36773...</td>\n",
       "      <td>Française</td>\n",
       "    </tr>\n",
       "    <tr>\n",
       "      <th>3</th>\n",
       "      <td>20518</td>\n",
       "      <td>Cheesecake inratable</td>\n",
       "      <td>8</td>\n",
       "      <td>sucré</td>\n",
       "      <td>30</td>\n",
       "      <td>0</td>\n",
       "      <td>55</td>\n",
       "      <td>85</td>\n",
       "      <td>très facile</td>\n",
       "      <td>bon marché</td>\n",
       "      <td>https://assets.afcdn.com/recipe/20221209/13832...</td>\n",
       "      <td>Américaine</td>\n",
       "    </tr>\n",
       "    <tr>\n",
       "      <th>4</th>\n",
       "      <td>14760</td>\n",
       "      <td>Langues de chat</td>\n",
       "      <td>6</td>\n",
       "      <td>sucré</td>\n",
       "      <td>15</td>\n",
       "      <td>0</td>\n",
       "      <td>8</td>\n",
       "      <td>23</td>\n",
       "      <td>très facile</td>\n",
       "      <td>bon marché</td>\n",
       "      <td>https://assets.afcdn.com/recipe/20170510/25424...</td>\n",
       "      <td>Française</td>\n",
       "    </tr>\n",
       "    <tr>\n",
       "      <th>5</th>\n",
       "      <td>84335</td>\n",
       "      <td>Osso bucco milanaise</td>\n",
       "      <td>6</td>\n",
       "      <td>None</td>\n",
       "      <td>40</td>\n",
       "      <td>0</td>\n",
       "      <td>60</td>\n",
       "      <td>100</td>\n",
       "      <td>facile</td>\n",
       "      <td>moyen</td>\n",
       "      <td>https://assets.afcdn.com/recipe/20230623/14377...</td>\n",
       "      <td>None</td>\n",
       "    </tr>\n",
       "    <tr>\n",
       "      <th>6</th>\n",
       "      <td>31808</td>\n",
       "      <td>Tarte thon et tomate</td>\n",
       "      <td>6</td>\n",
       "      <td>salé</td>\n",
       "      <td>10</td>\n",
       "      <td>0</td>\n",
       "      <td>25</td>\n",
       "      <td>35</td>\n",
       "      <td>très facile</td>\n",
       "      <td>bon marché</td>\n",
       "      <td>https://assets.afcdn.com/recipe/20200831/11364...</td>\n",
       "      <td>Française</td>\n",
       "    </tr>\n",
       "  </tbody>\n",
       "</table>\n",
       "</div>"
      ],
      "text/plain": [
       "      id                         name  nb_person sweet_salt  time_preparation  \\\n",
       "0  58900             Tarte aux pommes          6      sucré                25   \n",
       "1  24175  Pancakes : la vraie recette         18      sucré                 5   \n",
       "2  22715   Tarte à la rhubarbe rapide          6      sucré                15   \n",
       "3  20518         Cheesecake inratable          8      sucré                30   \n",
       "4  14760              Langues de chat          6      sucré                15   \n",
       "5  84335         Osso bucco milanaise          6       None                40   \n",
       "6  31808         Tarte thon et tomate          6       salé                10   \n",
       "\n",
       "   time_rest  time_cooking  time_total   difficulty        cost  \\\n",
       "0          0            30          55       facile  bon marché   \n",
       "1          0            36          41  très facile  bon marché   \n",
       "2          0            35          50       facile  bon marché   \n",
       "3          0            55          85  très facile  bon marché   \n",
       "4          0             8          23  très facile  bon marché   \n",
       "5          0            60         100       facile       moyen   \n",
       "6          0            25          35  très facile  bon marché   \n",
       "\n",
       "                                          image_link     country  \n",
       "0  https://assets.afcdn.com/recipe/20220128/12825...        None  \n",
       "1  https://assets.afcdn.com/recipe/20221013/13607...        None  \n",
       "2  https://assets.afcdn.com/recipe/20160520/36773...   Française  \n",
       "3  https://assets.afcdn.com/recipe/20221209/13832...  Américaine  \n",
       "4  https://assets.afcdn.com/recipe/20170510/25424...   Française  \n",
       "5  https://assets.afcdn.com/recipe/20230623/14377...        None  \n",
       "6  https://assets.afcdn.com/recipe/20200831/11364...   Française  "
      ]
     },
     "execution_count": 3,
     "metadata": {},
     "output_type": "execute_result"
    }
   ],
   "source": [
    "df"
   ]
  }
 ],
 "metadata": {
  "kernelspec": {
   "display_name": "base",
   "language": "python",
   "name": "python3"
  },
  "language_info": {
   "codemirror_mode": {
    "name": "ipython",
    "version": 3
   },
   "file_extension": ".py",
   "mimetype": "text/x-python",
   "name": "python",
   "nbconvert_exporter": "python",
   "pygments_lexer": "ipython3",
   "version": "3.12.4"
  }
 },
 "nbformat": 4,
 "nbformat_minor": 2
}
