{
 "cells": [
  {
   "cell_type": "code",
   "execution_count": 2,
   "metadata": {},
   "outputs": [],
   "source": [
    "import requests\n",
    "from bs4 import BeautifulSoup\n",
    "import pandas as pd\n",
    "import re"
   ]
  },
  {
   "cell_type": "code",
   "execution_count": 3,
   "metadata": {},
   "outputs": [],
   "source": [
    "def soup_to_dico(_soup):\n",
    "    temps = _soup.find('div', {\"class\" : \"time__details\"}).find_all('div')\n",
    "    temps_preparation = temps[1].get_text()\n",
    "    temps_repos = temps[3].get_text()\n",
    "    temps_cuisson = temps[5].get_text()\n",
    "\n",
    "    image = _soup.find('img',{\"class\":\"lazyload mrtn-print-only\"}).get(\"data-src\")\n",
    "\n",
    "    nb_personne = _soup.find(\"div\",{\"class\":'mrtn-recette_ingredients-counter'}).get(\"data-servingsnb\")\n",
    "\n",
    "    difficulte = _soup.find_all('div',{\"class\": 'recipe-primary__item'})\n",
    "    result = []\n",
    "    for div in difficulte:\n",
    "        # Trouver la balise <span> et extraire son texte\n",
    "        span = div.find('span')\n",
    "        if span:\n",
    "            result.append(span)\n",
    "    temps_total = result[0].get_text()\n",
    "    difficulte= result[1].get_text()\n",
    "    cout = result[2].get_text()\n",
    "\n",
    "    instructions = _soup.find_all(\"div\",{\"class\":'recipe-step-list__container'})\n",
    "    etapes = []\n",
    "    for i in range(len(instructions)):\n",
    "        for p in instructions[i].find_all(\"p\"):\n",
    "            etapes.append(p.get_text())\n",
    "    \n",
    "    liste_ingredients = []\n",
    "\n",
    "    ingredients = _soup.find_all(\"span\",{\"class\":\"card-ingredient-title\"})\n",
    "    ingredients_id = _soup.find_all(\"div\",{\"class\":\"card-ingredient-checkbox\"})\n",
    "\n",
    "    for i in range(len(ingredients)):\n",
    "        nom = ingredients[i].find(\"span\",{\"class\":\"ingredient-name\"}).get(\"data-ingredientnameplural\")\n",
    "        quantite_unite = ingredients[i].find(\"span\", {\"class\":\"card-ingredient-quantity\"})\n",
    "        quantite = quantite_unite.get(\"data-ingredientquantity\")\n",
    "        unite = quantite_unite.find(\"span\", {\"class\":\"unit\"}).get(\"data-unitsingular\")\n",
    "        id_ingredient= ingredients_id[i].find(\"input\").get(\"id\")\n",
    "        \n",
    "\n",
    "        liste_ingredients.append({\n",
    "            \"nom\":nom,\n",
    "            \"quantite\": quantite,\n",
    "            \"unite\":unite,\n",
    "            \"id\": id_ingredient[5:]\n",
    "        })\n",
    "\n",
    "    recette_ = {\n",
    "        \"temps_preparation\" : temps_preparation,\n",
    "        \"tems_repos\" : temps_repos,\n",
    "        \"temps_cuisson\": temps_cuisson ,\n",
    "        \"image\" : image ,\n",
    "        \"nb_personne\": nb_personne,\n",
    "        \"temps_total\": temps_total ,\n",
    "        \"difficulte\":difficulte,\n",
    "        \"cout\": cout,\n",
    "        \"etapes\": etapes,\n",
    "        \"ingredients\": liste_ingredients\n",
    "    }\n",
    "\n",
    "    return recette_\n",
    "    "
   ]
  },
  {
   "cell_type": "markdown",
   "metadata": {},
   "source": [
    "Récupère les titres et les liens vers les entrées et les plats des recettes Top de marmiton"
   ]
  },
  {
   "cell_type": "code",
   "execution_count": 4,
   "metadata": {},
   "outputs": [
    {
     "name": "stderr",
     "output_type": "stream",
     "text": [
      "<>:21: SyntaxWarning: invalid escape sequence '\\d'\n",
      "<>:21: SyntaxWarning: invalid escape sequence '\\d'\n",
      "/tmp/ipykernel_538/1732393173.py:21: SyntaxWarning: invalid escape sequence '\\d'\n",
      "  \"\"\"\n"
     ]
    },
    {
     "data": {
      "text/plain": [
       "'\\nrecettes = [] #titres, liens\\nfor titre, lien in zip(titres, liens):\\n    recettes.append({\\n        \"titre\": titre.get_text().strip(),\\n        \"lien\": lien[\"href\"]\\n    })\\n\\nfor recette in recettes:\\n    lien = recette[\\'lien\\']\\n    id = re.findall(r\\'(\\\\d+)\\', lien)[0]\\n    response_recette = requests.get(lien)\\n    soup_recette = BeautifulSoup(response_recette.content, \"html.parser\")\\n    recette[\\'id\\'] = id\\n    #recette.update(soup_to_dico(soup_recette))\\n'"
      ]
     },
     "execution_count": 4,
     "metadata": {},
     "output_type": "execute_result"
    }
   ],
   "source": [
    "urls = [\n",
    "    'https://www.marmiton.org/recettes/top-internautes-plat-principal.aspx',\n",
    "    'https://www.marmiton.org/recettes/top-internautes-entree.aspx',\n",
    "    \"https://www.marmiton.org/recettes/top-internautes-dessert.aspx\"\n",
    "    ]\n",
    "\n",
    "titres = []\n",
    "liens = []\n",
    "\n",
    "for url in urls:\n",
    "    response = requests.get(url)\n",
    "    soup = BeautifulSoup(response.content, \"html.parser\")\n",
    "\n",
    "    titre = soup.find_all('h4', {\"class\" : \"recipe-card__title\"})\n",
    "    lien=soup.find_all('a', {\"class\" : \"recipe-card-link\"})\n",
    "    \n",
    "\n",
    "    titres.extend(titre)\n",
    "    liens.extend(lien)\n",
    "\n",
    "\n",
    "recettes = [] #titres, liens\n",
    "for titre, lien in zip(titres, liens):\n",
    "    recettes.append({\n",
    "        \"titre\": titre.get_text().strip(),\n",
    "        \"lien\": lien[\"href\"]\n",
    "    })\n",
    "\n",
    "for recette in recettes:\n",
    "    lien = recette['lien']\n",
    "    id = re.findall(r'(\\d+)', lien)[0]\n",
    "    response_recette = requests.get(lien)\n",
    "    soup_recette = BeautifulSoup(response_recette.content, \"html.parser\")\n",
    "    recette['id'] = id\n",
    "    recette.update(soup_to_dico(soup_recette))\n",
    "\n"
   ]
  },
  {
   "cell_type": "markdown",
   "metadata": {},
   "source": [
    "### Zone de test"
   ]
  },
  {
   "cell_type": "code",
   "execution_count": 3,
   "metadata": {},
   "outputs": [],
   "source": [
    "response_recipe = requests.get(\"https://www.marmiton.org/recettes/recette_lasagnes-a-la-bolognaise_18215.aspx\").text"
   ]
  },
  {
   "cell_type": "code",
   "execution_count": 5,
   "metadata": {},
   "outputs": [],
   "source": [
    "soup = BeautifulSoup(response_recipe, \"html.parser\")"
   ]
  },
  {
   "cell_type": "code",
   "execution_count": 42,
   "metadata": {},
   "outputs": [],
   "source": [
    "image_link = soup.find('img',{\"class\":\"lazyload mrtn-print-only\"}).get(\"data-src\")"
   ]
  },
  {
   "cell_type": "code",
   "execution_count": 43,
   "metadata": {},
   "outputs": [
    {
     "data": {
      "text/plain": [
       "'https://assets.afcdn.com/recipe/20180209/77484_w300h200c1cx2464cy1632cxt0cyt0cxb4928cyb3264.webp'"
      ]
     },
     "execution_count": 43,
     "metadata": {},
     "output_type": "execute_result"
    }
   ],
   "source": [
    "image_link"
   ]
  }
 ],
 "metadata": {
  "kernelspec": {
   "display_name": "base",
   "language": "python",
   "name": "python3"
  },
  "language_info": {
   "codemirror_mode": {
    "name": "ipython",
    "version": 3
   },
   "file_extension": ".py",
   "mimetype": "text/x-python",
   "name": "python",
   "nbconvert_exporter": "python",
   "pygments_lexer": "ipython3",
   "version": "3.12.4"
  }
 },
 "nbformat": 4,
 "nbformat_minor": 2
}
