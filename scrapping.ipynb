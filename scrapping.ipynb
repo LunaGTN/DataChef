{
 "cells": [
  {
   "cell_type": "code",
   "execution_count": 7,
   "metadata": {},
   "outputs": [],
   "source": [
    "import requests\n",
    "from bs4 import BeautifulSoup\n",
    "import pandas as pd\n",
    "import re"
   ]
  },
  {
   "cell_type": "code",
   "execution_count": 55,
   "metadata": {},
   "outputs": [],
   "source": [
    "def soup_to_dico(_soup):\n",
    "    temps = _soup.find('div', {\"class\" : \"time__details\"}).find_all('div')\n",
    "    temps_preparation = temps[1].get_text()\n",
    "    temps_repos = temps[3].get_text()\n",
    "    temps_cuisson = temps[5].get_text()\n",
    "\n",
    "    image = _soup.find('img',{\"class\":\"lazyload mrtn-print-only\"}).get(\"data-src\")\n",
    "\n",
    "    nb_personne = _soup.find(\"div\",{\"class\":'mrtn-recette_ingredients-counter'}).get(\"data-servingsnb\")\n",
    "\n",
    "    difficulte = _soup.find_all('div',{\"class\": 'recipe-primary__item'})\n",
    "    result = []\n",
    "    for div in difficulte:\n",
    "        # Trouver la balise <span> et extraire son texte\n",
    "        span = div.find('span')\n",
    "        if span:\n",
    "            result.append(span)\n",
    "    temps_total = result[0].get_text()\n",
    "    difficulte= result[1].get_text()\n",
    "    cout = result[2].get_text()\n",
    "\n",
    "    instructions = _soup.find_all(\"div\",{\"class\":'recipe-step-list__container'})\n",
    "    etapes = []\n",
    "    for i in range(len(instructions)):\n",
    "        for p in instructions[i].find_all(\"p\"):\n",
    "            etapes.append(p.get_text())\n",
    "    \n",
    "    liste_ingredients = []\n",
    "\n",
    "    ingredients = _soup.find_all(\"span\",{\"class\":\"card-ingredient-title\"})\n",
    "    ingredients_id = _soup.find_all(\"div\",{\"class\":\"card-ingredient-checkbox\"})\n",
    "\n",
    "    for i in range(len(ingredients)):\n",
    "        nom = ingredients[i].find(\"span\",{\"class\":\"ingredient-name\"}).get(\"data-ingredientnameplural\")\n",
    "        quantite_unite = ingredients[i].find(\"span\", {\"class\":\"card-ingredient-quantity\"})\n",
    "        quantite = quantite_unite.get(\"data-ingredientquantity\")\n",
    "        unite = quantite_unite.find(\"span\", {\"class\":\"unit\"}).get(\"data-unitsingular\")\n",
    "        id_ingredient= ingredients_id[i].find(\"input\").get(\"id\")\n",
    "        \n",
    "\n",
    "        liste_ingredients.append({\n",
    "            \"nom\":nom,\n",
    "            \"quantite\": quantite,\n",
    "            \"unite\":unite,\n",
    "            \"id\": id_ingredient[6:]\n",
    "        })\n",
    "\n",
    "    recette_ = {\n",
    "        \"temps_preparation\" : temps_preparation,\n",
    "        \"tems_repos\" : temps_repos,\n",
    "        \"temps_cuisson\": temps_cuisson ,\n",
    "        \"image\" : image ,\n",
    "        \"nb_personne\": nb_personne,\n",
    "        \"temps_total\": temps_total ,\n",
    "        \"difficulte\":difficulte,\n",
    "        \"cout\": cout,\n",
    "        \"etapes\": etapes,\n",
    "        \"ingredients\": liste_ingredients\n",
    "    }\n",
    "\n",
    "    return recette_\n",
    "    "
   ]
  },
  {
   "cell_type": "markdown",
   "metadata": {},
   "source": [
    "Récupère les titres et les liens vers les entrées et les plats des recettes Top de marmiton"
   ]
  },
  {
   "cell_type": "code",
   "execution_count": 56,
   "metadata": {},
   "outputs": [
    {
     "name": "stderr",
     "output_type": "stream",
     "text": [
      "Some characters could not be decoded, and were replaced with REPLACEMENT CHARACTER.\n",
      "Some characters could not be decoded, and were replaced with REPLACEMENT CHARACTER.\n",
      "Some characters could not be decoded, and were replaced with REPLACEMENT CHARACTER.\n"
     ]
    }
   ],
   "source": [
    "urls = [\n",
    "    'https://www.marmiton.org/recettes/top-internautes-plat-principal.aspx',\n",
    "    'https://www.marmiton.org/recettes/top-internautes-entree.aspx',\n",
    "    \"https://www.marmiton.org/recettes/top-internautes-dessert.aspx\"\n",
    "    ]\n",
    "\n",
    "titres = []\n",
    "liens = []\n",
    "\n",
    "for url in urls:\n",
    "    response = requests.get(url)\n",
    "    soup = BeautifulSoup(response.content, \"html.parser\")\n",
    "\n",
    "    titre = soup.find_all('h4', {\"class\" : \"recipe-card__title\"})\n",
    "    lien=soup.find_all('a', {\"class\" : \"recipe-card-link\"})\n",
    "\n",
    "    titres.extend(titre)\n",
    "    liens.extend(lien)\n",
    "\n",
    "recettes = [] #titres, liens\n",
    "for titre, lien in zip(titres, liens):\n",
    "    recettes.append({\n",
    "        \"titre\": titre.get_text().strip(),\n",
    "        \"lien\": lien[\"href\"]\n",
    "    })\n",
    "\n",
    "for recette in recettes:\n",
    "    lien = recette['lien']\n",
    "    id = re.findall(r'(\\d+)', lien)[0]\n",
    "    response_recette = requests.get(lien)\n",
    "    soup_recette = BeautifulSoup(response_recette.content, \"html.parser\")\n",
    "    recette['id'] = id\n",
    "    recette.update(soup_to_dico(soup_recette))\n",
    "\n",
    "\n",
    "\n",
    "\n"
   ]
  },
  {
   "cell_type": "code",
   "execution_count": 58,
   "metadata": {},
   "outputs": [
    {
     "data": {
      "text/plain": [
       "[{'nom': 'beurre', 'quantite': '125', 'unite': 'g'},\n",
       " {'nom': 'farine', 'quantite': '100', 'unite': 'g'},\n",
       " {'nom': 'poivre', 'quantite': '0', 'unite': ''},\n",
       " {'nom': 'sel', 'quantite': '0', 'unite': ''},\n",
       " {'nom': 'fromage râpé', 'quantite': '70', 'unite': 'g'},\n",
       " {'nom': 'muscade', 'quantite': '3', 'unite': 'pincée'},\n",
       " {'nom': 'thym', 'quantite': '0', 'unite': ''},\n",
       " {'nom': 'feuilles de laurier', 'quantite': '2', 'unite': ''},\n",
       " {'nom': 'vin rouge', 'quantite': '20', 'unite': 'cl'},\n",
       " {'nom': 'purée de tomate', 'quantite': '800', 'unite': 'g'},\n",
       " {'nom': 'carottes', 'quantite': '1', 'unite': ''},\n",
       " {'nom': 'oignons jaunes', 'quantite': '3', 'unite': ''},\n",
       " {'nom': 'lasagnes', 'quantite': '1', 'unite': 'paquet'},\n",
       " {'nom': 'ail', 'quantite': '2', 'unite': 'gousse'},\n",
       " {'nom': 'céleri', 'quantite': '1', 'unite': 'branche'},\n",
       " {'nom': 'boeuf haché', 'quantite': '600', 'unite': 'g'},\n",
       " {'nom': 'eau', 'quantite': '15', 'unite': 'cl'},\n",
       " {'nom': 'basilic', 'quantite': '0', 'unite': ''},\n",
       " {'nom': 'Parmesan', 'quantite': '125', 'unite': 'g'},\n",
       " {'nom': 'lait', 'quantite': '1', 'unite': 'l'},\n",
       " {'id': '3'},\n",
       " {'id': '89'},\n",
       " {'id': '35'},\n",
       " {'id': '90'},\n",
       " {'id': '225'},\n",
       " {'id': '89'},\n",
       " {'id': '051'},\n",
       " {'id': '635'},\n",
       " {'id': '222'},\n",
       " {'id': '583'},\n",
       " {'id': '72'},\n",
       " {'id': '150'},\n",
       " {'id': '91'},\n",
       " {'id': '0'},\n",
       " {'id': '83'},\n",
       " {'id': '758'},\n",
       " {'id': '381'},\n",
       " {'id': '6'},\n",
       " {'id': '67'},\n",
       " {'id': '64'}]"
      ]
     },
     "execution_count": 58,
     "metadata": {},
     "output_type": "execute_result"
    }
   ],
   "source": [
    "recettes[1][\"ingredients\"]"
   ]
  },
  {
   "cell_type": "code",
   "execution_count": 53,
   "metadata": {},
   "outputs": [
    {
     "data": {
      "text/plain": [
       "[{'id': '35'},\n",
       " {'id': '90'},\n",
       " {'id': '89'},\n",
       " {'id': '869'},\n",
       " {'id': '150'},\n",
       " {'id': '72'},\n",
       " {'id': '8'},\n",
       " {'id': '964'},\n",
       " {'id': '09'},\n",
       " {'id': '98'},\n",
       " {'id': '50'},\n",
       " {'id': '393'},\n",
       " {'id': '221'}]"
      ]
     },
     "execution_count": 53,
     "metadata": {},
     "output_type": "execute_result"
    }
   ],
   "source": [
    "url = \"https://www.marmiton.org/recettes/recette_blanquette-de-veau-facile_19219.aspx\"\n",
    "response = requests.get(url)\n",
    "soup = BeautifulSoup(response.content, \"html.parser\")\n",
    "\n",
    "liste_ingredients =[]\n",
    "\n",
    "ingredients_id = soup.find_all(\"div\",{\"class\":\"card-ingredient-checkbox\"})\n",
    "for i in range(len(ingredients_id)):\n",
    "    id_ingredient= ingredients_id[i].find(\"input\").get(\"id\")\n",
    "    liste_ingredients.append({\"id\": id_ingredient[6:]})\n",
    "\n",
    "liste_ingredients"
   ]
  }
 ],
 "metadata": {
  "kernelspec": {
   "display_name": "base",
   "language": "python",
   "name": "python3"
  },
  "language_info": {
   "codemirror_mode": {
    "name": "ipython",
    "version": 3
   },
   "file_extension": ".py",
   "mimetype": "text/x-python",
   "name": "python",
   "nbconvert_exporter": "python",
   "pygments_lexer": "ipython3",
   "version": "3.12.4"
  }
 },
 "nbformat": 4,
 "nbformat_minor": 2
}
