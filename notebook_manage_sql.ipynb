{
 "cells": [
  {
   "cell_type": "code",
   "execution_count": 2,
   "metadata": {
    "metadata": {}
   },
   "outputs": [],
   "source": [
    "from sql_manager import SQL_recipe_manager"
   ]
  },
  {
   "cell_type": "code",
   "execution_count": 6,
   "metadata": {
    "metadata": {}
   },
   "outputs": [],
   "source": [
    "recette = {\n",
    "    'titre': 'Blanquette de veau : recette traditionnelle',\n",
    "    'lien': 'https://www.marmiton.org/recettes/recette_blanquette-de-veau-facile_19219.aspx',\n",
    "    'id': '19219',\n",
    "    'temps_preparation': '15 min',\n",
    "    'tems_repos': '-',\n",
    "    'temps_cuisson': '2 h',\n",
    "    'image': 'https://assets.afcdn.com/recipe/20190529/93191_w300h200c1cx4330cy2886cxt0cyt0cxb8660cyb5773.webp',\n",
    "    'nb_personne': '4',\n",
    "    'temps_total': '2h15',\n",
    "    'difficulte': 'très facile',\n",
    "    'cout': 'moyen',\n",
    "    'etapes': [\n",
    "        \"Faire revenir la viande dans un peu de beurre doux jusqu'à ce que les morceaux soient un peu dorés.\",\n",
    "        'Saupoudrer de 2 cuillères de farine. Bien remuer.',\n",
    "        \"Ajouter 2 ou 3 verres d'eau, les cubes de bouillon, le vin et remuer. Ajouter de l'eau si nécessaire pour couvrir.\",\n",
    "        'Couper les carottes en rondelles et émincer les oignons puis les incorporer à la viande, ainsi que les champignons. ',\n",
    "        'Laisser mijoter à feu très doux environ 1h30 à 2h00 en remuant. ',\n",
    "        \"Si nécessaire, ajouter de l'eau de temps en temps. \",\n",
    "        'Dans un bol, bien mélanger la crème fraîche, le jaune d’oeuf et le jus de citron. Ajouter ce mélange au dernier moment, bien remuer et servir tout de suite.'],\n",
    "    'ingredients': [\n",
    "        {'nom': 'poivre', 'quantite': '0', 'unite': '', 'id': '35'},\n",
    "        {'nom': 'sel', 'quantite': '0', 'unite': '', 'id': '90'},\n",
    "        {'nom': 'farine', 'quantite': '0', 'unite': '', 'id': '2'},\n",
    "        {'nom': 'crème fraîche', 'quantite': '1', 'unite': 'petit pot', 'id': '9512'},\n",
    "        {'nom': 'oignons jaunes', 'quantite': '1', 'unite': '', 'id': '456'},\n",
    "        {'nom': 'carottes', 'quantite': '2', 'unite': '', 'id': '4'},\n",
    "        {'nom': 'blanquette de veau', 'quantite': '1', 'unite': 'kg', 'id': '5'},\n",
    "        {'nom': 'bouillon de poule', 'quantite': '1', 'unite': '', 'id': '6'},\n",
    "        {'nom': 'champignon', 'quantite': '1', 'unite': 'petite boîte', 'id': '789'},\n",
    "        {'nom': 'citrons', 'quantite': '0', 'unite': '', 'id': '7'},\n",
    "        {'nom': \"jaunes d'oeuf\", 'quantite': '1', 'unite': '', 'id': '8'},\n",
    "        {'nom': 'vin blanc', 'quantite': '25', 'unite': 'cl', 'id': '9'}\n",
    "    ]\n",
    "}"
   ]
  },
  {
   "cell_type": "code",
   "execution_count": 4,
   "metadata": {
    "metadata": {}
   },
   "outputs": [],
   "source": [
    "recette_bis = {'titre': 'Lasagnes à la bolognaise',\n",
    " 'lien': 'https://www.marmiton.org/recettes/recette_lasagnes-a-la-bolognaise_18215.aspx',\n",
    " 'id': '18215',\n",
    " 'temps_preparation': '30 min',\n",
    " 'tems_repos': '-',\n",
    " 'temps_cuisson': '1h35',\n",
    " 'image': 'https://assets.afcdn.com/recipe/20200408/109520_w300h200c1cx1866cy2800cxt0cyt0cxb3732cyb5600.webp',\n",
    " 'nb_personne': '8',\n",
    " 'temps_total': '2h05',\n",
    " 'difficulte': 'moyenne',\n",
    " 'cout': 'moyen',\n",
    " 'etapes': [\"Faire revenir gousses hachées d'ail et les oignons émincés dans un peu d'huile d'olive.\",\n",
    "  'Ajouter la carotte et la branche de céleri hachée puis la viande et faire revenir le tout.',\n",
    "  \"Au bout de quelques minutes, ajouter le vin rouge. Laisser cuire jusqu'à évaporation.\",\n",
    "  \"Ajouter la purée de tomates, l'eau et les herbes.\\nSaler, poivrer, puis laisser mijoter à feu doux 45 minutes.\",\n",
    "  'Préparer la béchamel : faire fondre 100 g de beurre.',\n",
    "  \"Hors du feu, ajouter la farine d'un coup.\",\n",
    "  \"Remettre sur le feu et remuer avec un fouet jusqu'à l'obtention d'un mélange bien lisse. \",\n",
    "  'Ajouter le lait peu à peu.',\n",
    "  \"Remuer sans cesse, jusqu'à ce que le mélange s'épaississe.\",\n",
    "  'Ensuite, parfumer avec la muscade, saler, poivrer. Laisser cuire environ 5 minutes, à feu très doux, en remuant. Réserver.',\n",
    "  \"Préchauffer le four à 200°C (thermostat 6-7).\\nHuiler le plat à lasagnes. Poser une fine couche de béchamel puis des feuilles de lasagnes, de la bolognaise, de la béchamel et du parmesan.\\nRépéter l'opération 3 fois de suite.\",\n",
    "  'Sur la dernière couche de lasagnes, ne mettre que de la béchamel et recouvrir de fromage râpé. Parsemer quelques noisettes de beurre.',\n",
    "  'Enfourner pour environ 25 minutes de cuisson.',\n",
    "  'Déguster'],\n",
    " 'ingredients': [{'nom': 'beurre', 'quantite': '125', 'unite': 'g', 'id': '3'},\n",
    "  {'nom': 'farine', 'quantite': '100', 'unite': 'g', 'id': '12489'},\n",
    "  {'nom': 'poivre', 'quantite': '0', 'unite': '', 'id': '35'},\n",
    "  {'nom': 'sel', 'quantite': '0', 'unite': '', 'id': '90'},\n",
    "  {'nom': 'fromage râpé', 'quantite': '70', 'unite': 'g', 'id': '225'},\n",
    "  {'nom': 'muscade', 'quantite': '3', 'unite': 'pincée', 'id': '89'},\n",
    "  {'nom': 'thym', 'quantite': '0', 'unite': '', 'id': '051'},\n",
    "  {'nom': 'feuilles de laurier', 'quantite': '2', 'unite': '', 'id': '635'},\n",
    "  {'nom': 'vin rouge', 'quantite': '20', 'unite': 'cl', 'id': '222'},\n",
    "  {'nom': 'purée de tomate', 'quantite': '800', 'unite': 'g', 'id': '583'},\n",
    "  {'nom': 'carottes', 'quantite': '1', 'unite': '', 'id': '72'},\n",
    "  {'nom': 'oignons jaunes', 'quantite': '3', 'unite': '', 'id': '150'},\n",
    "  {'nom': 'lasagnes', 'quantite': '1', 'unite': 'paquet', 'id': '91'},\n",
    "  {'nom': 'ail', 'quantite': '2', 'unite': 'gousse', 'id': '0'},\n",
    "  {'nom': 'céleri', 'quantite': '1', 'unite': 'branche', 'id': '83'},\n",
    "  {'nom': 'boeuf haché', 'quantite': '600', 'unite': 'g', 'id': '758'},\n",
    "  {'nom': 'eau', 'quantite': '15', 'unite': 'cl', 'id': '381'},\n",
    "  {'nom': 'basilic', 'quantite': '0', 'unite': '', 'id': '6'},\n",
    "  {'nom': 'Parmesan', 'quantite': '125', 'unite': 'g', 'id': '67'},\n",
    "  {'nom': 'lait', 'quantite': '1', 'unite': 'l', 'id': '64'}]}"
   ]
  },
  {
   "cell_type": "code",
   "execution_count": 3,
   "metadata": {
    "metadata": {}
   },
   "outputs": [],
   "source": [
    "connector = SQL_recipe_manager()"
   ]
  },
  {
   "cell_type": "code",
   "execution_count": 4,
   "metadata": {
    "metadata": {}
   },
   "outputs": [],
   "source": [
    "connector.is_connected()"
   ]
  },
  {
   "cell_type": "code",
   "execution_count": null,
   "metadata": {
    "metadata": {}
   },
   "outputs": [],
   "source": [
    "connector.manage_recipe(recette)"
   ]
  },
  {
   "cell_type": "code",
   "execution_count": null,
   "metadata": {
    "metadata": {}
   },
   "outputs": [],
   "source": [
    "connector.manage_recipe(recette_bis)"
   ]
  },
  {
   "cell_type": "code",
   "execution_count": 1,
   "metadata": {},
   "outputs": [],
   "source": [
    "ingredients = [{'name': 'farine', 'quantity': '125', 'unit': 'g', 'id': '389'},\n",
    " {'name': 'sucre', 'quantity': '125', 'unit': 'g', 'id': '1018'},\n",
    " {'name': \"jaunes d'oeuf\", 'quantity': '4', 'unit': '', 'id': '7393'},\n",
    " {'name': \"blancs d'oeuf\", 'quantity': '4', 'unit': '', 'id': '7467'},\n",
    " {'name': 'sucre', 'quantity': '220', 'unit': 'g', 'id': '1018'},\n",
    " {'name': 'gélatine', 'quantity': '6', 'unit': 'feuille', 'id': '461'},\n",
    " {'name': 'fraises', 'quantity': '500', 'unit': 'g', 'id': '424'},\n",
    " {'name': 'citrons', 'quantity': '1', 'unit': '', 'id': '250'},\n",
    " {'name': 'crème liquide', 'quantity': '40', 'unit': 'cl', 'id': '311'},\n",
    " {'name': 'gélatine', 'quantity': '3', 'unit': 'feuille', 'id': '461'},\n",
    " {'name': 'coulis de fruits rouges',\n",
    "  'quantity': '1',\n",
    "  'unit': '',\n",
    "  'id': '1491'}]"
   ]
  },
  {
   "cell_type": "code",
   "execution_count": 10,
   "metadata": {},
   "outputs": [
    {
     "name": "stdout",
     "output_type": "stream",
     "text": [
      "['389', '1018', '7393', '7467', '461', '424', '250', '311', '1491']\n",
      "['125', '125220', '4', '4', '63', '500', '1', '40', '1']\n"
     ]
    }
   ],
   "source": [
    "list_id = []\n",
    "list_quantity = [] \n",
    "for i, ingre in enumerate(ingredients) :\n",
    "    if ingre['id'] not in list_id :\n",
    "        list_quantity.append(ingre['quantity'])\n",
    "        list_id.append(ingre['id'])\n",
    "    else:\n",
    "        idx = list_id.index(ingre['id'])\n",
    "        list_quantity[idx] += ingre['quantity']\n",
    "\n",
    "print(list_id)\n",
    "print(list_quantity)"
   ]
  },
  {
   "cell_type": "code",
   "execution_count": 18,
   "metadata": {},
   "outputs": [
    {
     "name": "stdout",
     "output_type": "stream",
     "text": [
      "[[2, 389, 125.0, 'g'], [2, 1018, 345.0, 'g'], [2, 7393, 4.0, ''], [2, 7467, 4.0, ''], [2, 461, 9.0, 'feuille'], [2, 424, 500.0, 'g'], [2, 250, 1.0, ''], [2, 311, 40.0, 'cl'], [2, 1491, 1.0, '']]\n",
      "[(2, 389, 125.0, 'g'), (2, 1018, 125.0, 'g'), (2, 7393, 4.0, ''), (2, 7467, 4.0, ''), (2, 1018, 220.0, 'g'), (2, 461, 6.0, 'feuille'), (2, 424, 500.0, 'g'), (2, 250, 1.0, ''), (2, 311, 40.0, 'cl'), (2, 461, 3.0, 'feuille'), (2, 1491, 1.0, '')]\n"
     ]
    }
   ],
   "source": [
    "id_recipe = 2\n",
    "list_id = []\n",
    "datas = []\n",
    "for ingre in ingredients :\n",
    "    if ingre['id'] not in list_id :\n",
    "        list_id.append(ingre['id'])\n",
    "        datas.append(\n",
    "            [int(id_recipe),\n",
    "            int(ingre['id']),\n",
    "            float(ingre['quantity']),\n",
    "            ingre['unit']\n",
    "            ])\n",
    "    else:\n",
    "\n",
    "        idx = list_id.index(ingre['id'])\n",
    "        datas[idx][2] += float(ingre['quantity'])\n",
    "\n",
    "datas2 =[\n",
    "    (int(id_recipe),\n",
    "    int(ingredient['id']),\n",
    "    float(ingredient['quantity']),\n",
    "    ingredient['unit']\n",
    "    ) for ingredient in ingredients\n",
    "]\n",
    "\n",
    "print(datas)\n",
    "print(datas2)"
   ]
  }
 ],
 "metadata": {
  "kernelspec": {
   "display_name": "base",
   "language": "python",
   "name": "python3"
  },
  "language_info": {
   "codemirror_mode": {
    "name": "ipython",
    "version": 3
   },
   "file_extension": ".py",
   "mimetype": "text/x-python",
   "name": "python",
   "nbconvert_exporter": "python",
   "pygments_lexer": "ipython3",
   "version": "3.12.4"
  }
 },
 "nbformat": 4,
 "nbformat_minor": 2
}
