{
 "cells": [
  {
   "cell_type": "code",
   "execution_count": 2,
   "metadata": {
    "metadata": {}
   },
   "outputs": [],
   "source": [
    "from sql_manager import SQL_recipe_manager"
   ]
  },
  {
   "cell_type": "code",
   "execution_count": 3,
   "metadata": {
    "metadata": {}
   },
   "outputs": [],
   "source": [
    "recette = {\n",
    "    'titre': 'Blanquette de veau : recette traditionnelle',\n",
    "    'lien': 'https://www.marmiton.org/recettes/recette_blanquette-de-veau-facile_19219.aspx',\n",
    "    'id': '19219',\n",
    "    'temps_preparation': '15 min',\n",
    "    'tems_repos': '-',\n",
    "    'temps_cuisson': '2 h',\n",
    "    'image': 'https://assets.afcdn.com/recipe/20190529/93191_w300h200c1cx4330cy2886cxt0cyt0cxb8660cyb5773.webp',\n",
    "    'nb_personne': '4',\n",
    "    'temps_total': '2h15',\n",
    "    'difficulte': 'très facile',\n",
    "    'cout': 'moyen',\n",
    "    'etapes': [\n",
    "        \"Faire revenir la viande dans un peu de beurre doux jusqu'à ce que les morceaux soient un peu dorés.\",\n",
    "        'Saupoudrer de 2 cuillères de farine. Bien remuer.',\n",
    "        \"Ajouter 2 ou 3 verres d'eau, les cubes de bouillon, le vin et remuer. Ajouter de l'eau si nécessaire pour couvrir.\",\n",
    "        'Couper les carottes en rondelles et émincer les oignons puis les incorporer à la viande, ainsi que les champignons. ',\n",
    "        'Laisser mijoter à feu très doux environ 1h30 à 2h00 en remuant. ',\n",
    "        \"Si nécessaire, ajouter de l'eau de temps en temps. \",\n",
    "        'Dans un bol, bien mélanger la crème fraîche, le jaune d’oeuf et le jus de citron. Ajouter ce mélange au dernier moment, bien remuer et servir tout de suite.'],\n",
    "    'ingredients': [\n",
    "        {'nom': 'poivre', 'quantite': '0', 'unite': '', 'id': '35'},\n",
    "        {'nom': 'sel', 'quantite': '0', 'unite': '', 'id': '90'},\n",
    "        {'nom': 'farine', 'quantite': '0', 'unite': '', 'id': '2'},\n",
    "        {'nom': 'crème fraîche', 'quantite': '1', 'unite': 'petit pot', 'id': '9512'},\n",
    "        {'nom': 'oignons jaunes', 'quantite': '1', 'unite': '', 'id': '456'},\n",
    "        {'nom': 'carottes', 'quantite': '2', 'unite': '', 'id': '4'},\n",
    "        {'nom': 'blanquette de veau', 'quantite': '1', 'unite': 'kg', 'id': '5'},\n",
    "        {'nom': 'bouillon de poule', 'quantite': '1', 'unite': '', 'id': '6'},\n",
    "        {'nom': 'champignon', 'quantite': '1', 'unite': 'petite boîte', 'id': '789'},\n",
    "        {'nom': 'citrons', 'quantite': '0', 'unite': '', 'id': '7'},\n",
    "        {'nom': \"jaunes d'oeuf\", 'quantite': '1', 'unite': '', 'id': '8'},\n",
    "        {'nom': 'vin blanc', 'quantite': '25', 'unite': 'cl', 'id': '9'}\n",
    "    ]\n",
    "}"
   ]
  },
  {
   "cell_type": "code",
   "execution_count": 4,
   "metadata": {
    "metadata": {}
   },
   "outputs": [],
   "source": [
    "recette_bis = {'titre': 'Lasagnes à la bolognaise',\n",
    " 'lien': 'https://www.marmiton.org/recettes/recette_lasagnes-a-la-bolognaise_18215.aspx',\n",
    " 'id': '18215',\n",
    " 'temps_preparation': '30 min',\n",
    " 'tems_repos': '-',\n",
    " 'temps_cuisson': '1h35',\n",
    " 'image': 'https://assets.afcdn.com/recipe/20200408/109520_w300h200c1cx1866cy2800cxt0cyt0cxb3732cyb5600.webp',\n",
    " 'nb_personne': '8',\n",
    " 'temps_total': '2h05',\n",
    " 'difficulte': 'moyenne',\n",
    " 'cout': 'moyen',\n",
    " 'etapes': [\"Faire revenir gousses hachées d'ail et les oignons émincés dans un peu d'huile d'olive.\",\n",
    "  'Ajouter la carotte et la branche de céleri hachée puis la viande et faire revenir le tout.',\n",
    "  \"Au bout de quelques minutes, ajouter le vin rouge. Laisser cuire jusqu'à évaporation.\",\n",
    "  \"Ajouter la purée de tomates, l'eau et les herbes.\\nSaler, poivrer, puis laisser mijoter à feu doux 45 minutes.\",\n",
    "  'Préparer la béchamel : faire fondre 100 g de beurre.',\n",
    "  \"Hors du feu, ajouter la farine d'un coup.\",\n",
    "  \"Remettre sur le feu et remuer avec un fouet jusqu'à l'obtention d'un mélange bien lisse. \",\n",
    "  'Ajouter le lait peu à peu.',\n",
    "  \"Remuer sans cesse, jusqu'à ce que le mélange s'épaississe.\",\n",
    "  'Ensuite, parfumer avec la muscade, saler, poivrer. Laisser cuire environ 5 minutes, à feu très doux, en remuant. Réserver.',\n",
    "  \"Préchauffer le four à 200°C (thermostat 6-7).\\nHuiler le plat à lasagnes. Poser une fine couche de béchamel puis des feuilles de lasagnes, de la bolognaise, de la béchamel et du parmesan.\\nRépéter l'opération 3 fois de suite.\",\n",
    "  'Sur la dernière couche de lasagnes, ne mettre que de la béchamel et recouvrir de fromage râpé. Parsemer quelques noisettes de beurre.',\n",
    "  'Enfourner pour environ 25 minutes de cuisson.',\n",
    "  'Déguster'],\n",
    " 'ingredients': [{'nom': 'beurre', 'quantite': '125', 'unite': 'g', 'id': '3'},\n",
    "  {'nom': 'farine', 'quantite': '100', 'unite': 'g', 'id': '12489'},\n",
    "  {'nom': 'poivre', 'quantite': '0', 'unite': '', 'id': '35'},\n",
    "  {'nom': 'sel', 'quantite': '0', 'unite': '', 'id': '90'},\n",
    "  {'nom': 'fromage râpé', 'quantite': '70', 'unite': 'g', 'id': '225'},\n",
    "  {'nom': 'muscade', 'quantite': '3', 'unite': 'pincée', 'id': '89'},\n",
    "  {'nom': 'thym', 'quantite': '0', 'unite': '', 'id': '051'},\n",
    "  {'nom': 'feuilles de laurier', 'quantite': '2', 'unite': '', 'id': '635'},\n",
    "  {'nom': 'vin rouge', 'quantite': '20', 'unite': 'cl', 'id': '222'},\n",
    "  {'nom': 'purée de tomate', 'quantite': '800', 'unite': 'g', 'id': '583'},\n",
    "  {'nom': 'carottes', 'quantite': '1', 'unite': '', 'id': '72'},\n",
    "  {'nom': 'oignons jaunes', 'quantite': '3', 'unite': '', 'id': '150'},\n",
    "  {'nom': 'lasagnes', 'quantite': '1', 'unite': 'paquet', 'id': '91'},\n",
    "  {'nom': 'ail', 'quantite': '2', 'unite': 'gousse', 'id': '0'},\n",
    "  {'nom': 'céleri', 'quantite': '1', 'unite': 'branche', 'id': '83'},\n",
    "  {'nom': 'boeuf haché', 'quantite': '600', 'unite': 'g', 'id': '758'},\n",
    "  {'nom': 'eau', 'quantite': '15', 'unite': 'cl', 'id': '381'},\n",
    "  {'nom': 'basilic', 'quantite': '0', 'unite': '', 'id': '6'},\n",
    "  {'nom': 'Parmesan', 'quantite': '125', 'unite': 'g', 'id': '67'},\n",
    "  {'nom': 'lait', 'quantite': '1', 'unite': 'l', 'id': '64'}]}"
   ]
  },
  {
   "cell_type": "code",
   "execution_count": 5,
   "metadata": {
    "metadata": {}
   },
   "outputs": [],
   "source": [
    "connector = SQL_recipe_manager()"
   ]
  },
  {
   "cell_type": "code",
   "execution_count": 6,
   "metadata": {
    "metadata": {}
   },
   "outputs": [
    {
     "name": "stdout",
     "output_type": "stream",
     "text": [
      "Successfully connected\n"
     ]
    }
   ],
   "source": [
    "connector.is_connected()"
   ]
  },
  {
   "cell_type": "code",
   "execution_count": 7,
   "metadata": {
    "metadata": {}
   },
   "outputs": [
    {
     "name": "stdout",
     "output_type": "stream",
     "text": [
      "Blanquette de veau : recette traditionnelle was successfully add to database\n",
      "\n",
      "Steps were successfully add to database\n",
      "\n",
      "poivre was successfully add to database\n",
      "sel was successfully add to database\n",
      "farine was successfully add to database\n",
      "crème fraîche was successfully add to database\n",
      "oignons jaunes was successfully add to database\n",
      "carottes was successfully add to database\n",
      "blanquette de veau was successfully add to database\n",
      "bouillon de poule was successfully add to database\n",
      "champignon was successfully add to database\n",
      "citrons was successfully add to database\n",
      "jaunes d'oeuf was successfully add to database\n",
      "vin blanc was successfully add to database\n"
     ]
    }
   ],
   "source": [
    "connector.manage_recipe(recette)"
   ]
  },
  {
   "cell_type": "code",
   "execution_count": 8,
   "metadata": {
    "metadata": {}
   },
   "outputs": [
    {
     "name": "stdout",
     "output_type": "stream",
     "text": [
      "Lasagnes à la bolognaise was successfully add to database\n",
      "\n",
      "Steps were successfully add to database\n",
      "\n",
      "beurre was successfully add to database\n",
      "farine was successfully add to database\n",
      "poivre is already in database\n",
      "sel is already in database\n",
      "fromage râpé was successfully add to database\n",
      "muscade was successfully add to database\n",
      "thym was successfully add to database\n",
      "feuilles de laurier was successfully add to database\n",
      "vin rouge was successfully add to database\n",
      "purée de tomate was successfully add to database\n",
      "carottes was successfully add to database\n",
      "oignons jaunes was successfully add to database\n",
      "lasagnes was successfully add to database\n",
      "ail was successfully add to database\n",
      "céleri was successfully add to database\n",
      "boeuf haché was successfully add to database\n",
      "eau was successfully add to database\n",
      "basilic is already in database\n",
      "Parmesan was successfully add to database\n",
      "lait was successfully add to database\n"
     ]
    }
   ],
   "source": [
    "connector.manage_recipe(recette_bis)"
   ]
  },
  {
   "cell_type": "code",
   "execution_count": null,
   "metadata": {},
   "outputs": [],
   "source": []
  }
 ],
 "metadata": {
  "kernelspec": {
   "display_name": "base",
   "language": "python",
   "name": "python3"
  },
  "language_info": {
   "codemirror_mode": {
    "name": "ipython",
    "version": 3
   },
   "file_extension": ".py",
   "mimetype": "text/x-python",
   "name": "python",
   "nbconvert_exporter": "python",
   "pygments_lexer": "ipython3",
   "version": "3.12.4"
  }
 },
 "nbformat": 4,
 "nbformat_minor": 2
}
